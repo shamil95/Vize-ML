{
 "cells": [
  {
   "cell_type": "code",
   "execution_count": 1,
   "id": "initial_id",
   "metadata": {},
   "outputs": [
    {
     "name": "stdout",
     "output_type": "stream",
     "text": [
      "   Annual_Income  Num_of_Delayed_Payment  Monthly_Inhand_Salary Credit_Score\n",
      "0      22380.180                    16.0            1385.264539         Good\n",
      "1      99166.770                     7.0            8305.897500         Good\n",
      "2      10496.255                    17.0            1141.687917         Poor\n",
      "3      44438.410                     2.0            3974.200833         Good\n",
      "4      15330.305                    19.0            1135.525417         Good\n"
     ]
    }
   ],
   "source": [
    "import pandas as pd\n",
    "train, test = pd.read_csv('train.csv') , pd.read_csv('test.csv')\n",
    "\n",
    "print(train.head())\n"
   ]
  },
  {
   "cell_type": "code",
   "execution_count": 2,
   "id": "8724928a-e499-4699-93e3-5aad45d7a852",
   "metadata": {},
   "outputs": [],
   "source": [
    "# do not change this code\n",
    "import numpy as np\n",
    "import pandas as pd \n",
    "\n",
    "x_columns_names =  ['Num_of_Delayed_Payment','Annual_Income','Monthly_Inhand_Salary']\n",
    "y_column_name = 'Credit_Score'\n",
    "label_to_index = {'Poor':0,'Good': 1}\n",
    "index_to_label = {v:k for k,v in label_to_index.items()}\n",
    "\n",
    "def prepare_dataset(data_frame: pd.DataFrame): \n",
    "     x_columns = [list(data_frame[col]) for col in x_columns_names]\n",
    "     return np.array(list(zip(*x_columns)),dtype=np.float64), np.array(list(data_frame[y_column_name].apply(lambda x: label_to_index[x])),dtype=np.int8)"
   ]
  },
  {
   "cell_type": "code",
   "execution_count": 3,
   "id": "d317d82a-f753-47b9-bdc4-4c4ee229ea5b",
   "metadata": {},
   "outputs": [],
   "source": [
    "# do not change this code\n",
    "trainX, trainY = prepare_dataset(train)\n",
    "testX, testY = prepare_dataset(test)"
   ]
  },
  {
   "cell_type": "code",
   "execution_count": 4,
   "id": "914ce492-2db8-412f-bc42-f9df360d8f90",
   "metadata": {},
   "outputs": [
    {
     "data": {
      "text/plain": [
       "[0, 1]"
      ]
     },
     "execution_count": 4,
     "metadata": {},
     "output_type": "execute_result"
    }
   ],
   "source": [
    "list(set(trainY))"
   ]
  },
  {
   "cell_type": "code",
   "execution_count": 5,
   "id": "2d1a8992-cc75-428c-9799-b3e4233a25c2",
   "metadata": {},
   "outputs": [
    {
     "data": {
      "text/plain": [
       "((8000, 3), (8000,))"
      ]
     },
     "execution_count": 5,
     "metadata": {},
     "output_type": "execute_result"
    }
   ],
   "source": [
    "trainX.shape, trainY.shape"
   ]
  },
  {
   "cell_type": "code",
   "execution_count": 6,
   "id": "937d6cf6-e6f1-47a6-a3f9-45065aa6ed0e",
   "metadata": {},
   "outputs": [
    {
     "data": {
      "text/plain": [
       "((2000, 3), (2000,))"
      ]
     },
     "execution_count": 6,
     "metadata": {},
     "output_type": "execute_result"
    }
   ],
   "source": [
    "testX.shape, testY.shape"
   ]
  },
  {
   "cell_type": "code",
   "execution_count": 7,
   "id": "16dbbd4d-41ae-4e2d-938d-eed237a60057",
   "metadata": {},
   "outputs": [],
   "source": [
    "from sklearn.neural_network import MLPClassifier\n",
    "from sklearn.naive_bayes import GaussianNB\n",
    "\n",
    "def train_model(trainX, trainY):\n",
    "    mlp_model = MLPClassifier(random_state=42)\n",
    "    mlp_model.fit(trainX, trainY)\n",
    "\n",
    "    nb_model = GaussianNB()\n",
    "    nb_model.fit(trainX, trainY)\n",
    "\n",
    "    return mlp_model, nb_model\n",
    "\n",
    "mlp_model, nb_model = train_model(trainX, trainY)"
   ]
  },
  {
   "cell_type": "code",
   "execution_count": 13,
   "id": "85f14147-2db5-427e-a222-c9d5bad6d5fb",
   "metadata": {},
   "outputs": [],
   "source": [
    "def generate_predictions(model, X, Y):\n",
    "    predictions = []\n",
    "    for x, y in zip(X, Y):\n",
    "        train_predictions = model.predict(np.array([x]))\n",
    "        predictions.append(train_predictions)\n",
    "        \n",
    "    return predictions\n",
    "\n",
    "train_predictions_mlp = generate_predictions(mlp_model, trainX, trainY)\n",
    "train_predictions_nb = generate_predictions(nb_model, trainX, trainY)\n",
    "\n",
    "test_predictions_mlp = generate_predictions(mlp_model, testX, testY)\n",
    "test_predictions_nb = generate_predictions(nb_model, testX, testY)\n"
   ]
  },
  {
   "cell_type": "code",
   "execution_count": 14,
   "id": "f2f09a0f-d343-4d8d-9c27-ae54fc2d02e6",
   "metadata": {},
   "outputs": [],
   "source": [
    "from sklearn.metrics import accuracy_score, confusion_matrix, classification_report\n",
    "\n",
    "def calculate_metrics(y_pred, y_truth):\n",
    "    accuracy = accuracy_score(y_truth, y_pred)\n",
    "    \n",
    "    cm = confusion_matrix(y_truth, y_pred)\n",
    "    \n",
    "    error_rates = cm.diagonal() / cm.sum(axis=1)\n",
    "    \n",
    "    most_misclassified_class = np.argmax(error_rates)\n",
    "    \n",
    "    report = classification_report(y_truth, y_pred, output_dict=True, zero_division=0)\n",
    "    \n",
    "    return {\n",
    "        'accuracy': accuracy,\n",
    "        'error_rates': error_rates,\n",
    "        'most_misclassified_class': most_misclassified_class,\n",
    "        'precision': report['weighted avg']['precision'],\n",
    "        'recall': report['weighted avg']['recall'],\n",
    "        'f1-score': report['weighted avg']['f1-score']\n",
    "    }\n",
    "\n",
    "mlp_metrics_test = calculate_metrics(test_predictions_mlp, testY)\n",
    "\n",
    "nb_metrics_test = calculate_metrics(test_predictions_nb, testY)\n",
    "\n",
    "mlp_metrics_train = calculate_metrics(train_predictions_mlp, trainY)\n",
    "\n",
    "nb_metrics_train = calculate_metrics(train_predictions_nb, trainY)\n"
   ]
  },
  {
   "cell_type": "code",
   "execution_count": 15,
   "id": "dddf1915-231a-410e-9270-0acbb8bada48",
   "metadata": {},
   "outputs": [
    {
     "name": "stdout",
     "output_type": "stream",
     "text": [
      "{'accuracy': 0.68275, 'error_rates': array([0.91365299, 0.31351527]), 'most_misclassified_class': 0, 'precision': 0.6856853845818958, 'recall': 0.68275, 'f1-score': 0.6460406267438146}\n"
     ]
    }
   ],
   "source": [
    "print(nb_metrics_train)"
   ]
  },
  {
   "cell_type": "code",
   "execution_count": null,
   "id": "6005eb98-baf9-40b7-aa34-e02a2a9f3f39",
   "metadata": {},
   "outputs": [],
   "source": []
  }
 ],
 "metadata": {
  "kernelspec": {
   "display_name": "gedik-makine-ogrenmesi",
   "language": "python",
   "name": "gedik-makine-ogrenmesi"
  },
  "language_info": {
   "codemirror_mode": {
    "name": "ipython",
    "version": 3
   },
   "file_extension": ".py",
   "mimetype": "text/x-python",
   "name": "python",
   "nbconvert_exporter": "python",
   "pygments_lexer": "ipython3",
   "version": "3.12.1"
  }
 },
 "nbformat": 4,
 "nbformat_minor": 5
}
